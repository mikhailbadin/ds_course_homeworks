{
 "cells": [
  {
   "cell_type": "markdown",
   "metadata": {},
   "source": [
    "## Подключаем необходимые библиотеки"
   ]
  },
  {
   "cell_type": "code",
   "execution_count": 1,
   "metadata": {},
   "outputs": [],
   "source": [
    "import os\n",
    "import datetime\n",
    "import numpy as np\n",
    "import pandas as pd\n",
    "from sqlalchemy import create_engine"
   ]
  },
  {
   "cell_type": "markdown",
   "metadata": {},
   "source": [
    "Настраиваем подключение к БД"
   ]
  },
  {
   "cell_type": "code",
   "execution_count": 2,
   "metadata": {},
   "outputs": [],
   "source": [
    "engine = create_engine(\"postgresql://postgres:@{}:{}\".format(os.environ[\"POSGRES_HOST\"], os.environ['POSGRES_PORT']))"
   ]
  },
  {
   "cell_type": "markdown",
   "metadata": {},
   "source": [
    "Запрос 2: Подсчитать общее количест получателей"
   ]
  },
  {
   "cell_type": "code",
   "execution_count": 3,
   "metadata": {},
   "outputs": [
    {
     "name": "stdout",
     "output_type": "stream",
     "text": [
      "418\n"
     ]
    }
   ],
   "source": [
    "emailreceivers = pd.read_sql(\"select * from emailreceivers\", engine)\n",
    "req2_result = emailreceivers[\"personid\"].drop_duplicates().count()\n",
    "print(req2_result)\n",
    "pd.DataFrame(\n",
    "    [req2_result],\n",
    "     columns=['count']).to_csv(os.environ['PANDAS_EXPORT_FOLDER'] + 'req2.csv')"
   ]
  },
  {
   "cell_type": "markdown",
   "metadata": {},
   "source": [
    "Запрос 3: Подсчитать количество отправленных писем за 2012"
   ]
  },
  {
   "cell_type": "code",
   "execution_count": 4,
   "metadata": {
    "scrolled": true
   },
   "outputs": [
    {
     "name": "stdout",
     "output_type": "stream",
     "text": [
      "1500\n"
     ]
    }
   ],
   "source": [
    "emails = pd.read_sql(\"select * from emails\", engine)\n",
    "req3_result = emails[\n",
    "    (emails[\"metadatadatesent\"] >= np.datetime64('2012-01-01')) &\n",
    "    (emails[\"metadatadatesent\"] < np.datetime64('2013-01-01'))\n",
    "][\"id\"].count()\n",
    "print(req3_result)\n",
    "pd.DataFrame(\n",
    "    [req3_result],\n",
    "     columns=['emails']).to_csv(os.environ['PANDAS_EXPORT_FOLDER'] + 'req3.csv')"
   ]
  },
  {
   "cell_type": "markdown",
   "metadata": {},
   "source": [
    "Запрос 5:\n",
    "Вывести список писем в следующем формате:\n",
    "Отправитель письма, получатель письма, тема письма,\n",
    "и отсортированы по теме письма."
   ]
  },
  {
   "cell_type": "code",
   "execution_count": 5,
   "metadata": {},
   "outputs": [
    {
     "name": "stdout",
     "output_type": "stream",
     "text": [
      "                  metadatafrom         metadatato        metadatasubject\n",
      "35711          Mills, Cheryl D                  H   - MORE WHEN WE SPEAK\n",
      "3951           Mills, Cheryl D                  H   - MORE WHEN WE SPEAK\n",
      "1528   hrod17@clintonemail.com  millscd@state.gov   - MORE WHEN WE SPEAK\n",
      "17504  hrod17@clintonemail.com  millscd@state.gov   - MORE WHEN WE SPEAK\n",
      "25355  hrod17@clintonemail.com  millscd@state.gov   - MORE WHEN WE SPEAK\n"
     ]
    }
   ],
   "source": [
    "emails = pd.read_sql(\"select * from emails\", engine)\n",
    "req5_df = emails[\n",
    "    [\"metadatafrom\", \"metadatato\", \"metadatasubject\"]\n",
    "].sort_values(by=[\"metadatasubject\"])\n",
    "print(req5_df.head())\n",
    "req5_df.head().to_csv(os.environ['PANDAS_EXPORT_FOLDER'] + 'req5.csv')"
   ]
  },
  {
   "cell_type": "markdown",
   "metadata": {},
   "source": [
    "Запрос 6:\n",
    "Вывести среднюю длинну сообщения"
   ]
  },
  {
   "cell_type": "code",
   "execution_count": 6,
   "metadata": {},
   "outputs": [
    {
     "name": "stdout",
     "output_type": "stream",
     "text": [
      "533.1624147137348\n"
     ]
    }
   ],
   "source": [
    "emails = pd.read_sql(\"select * from emails\", engine)\n",
    "req6_result = emails[\"extractedbodytext\"].str.len().mean()\n",
    "print(req6_result)\n",
    "pd.DataFrame(\n",
    "    [req6_result],\n",
    "     columns=['avg']).to_csv(os.environ['PANDAS_EXPORT_FOLDER'] + 'req6.csv')\n"
   ]
  },
  {
   "cell_type": "markdown",
   "metadata": {},
   "source": [
    "Запрос 7:\n",
    "Вывести количество писем, в которых содержится подстрока UNCLASSIFIED"
   ]
  },
  {
   "cell_type": "code",
   "execution_count": 7,
   "metadata": {},
   "outputs": [
    {
     "name": "stdout",
     "output_type": "stream",
     "text": [
      "78\n"
     ]
    }
   ],
   "source": [
    "emails = pd.read_sql(\"select * from emails\", engine)\n",
    "req7_result = emails[\n",
    "    emails[\"extractedbodytext\"].str.contains(\"UNCLASSIFIED\") == True\n",
    "][\"extractedbodytext\"].count()\n",
    "\n",
    "print(req7_result)\n",
    "pd.DataFrame(\n",
    "    [req7_result],\n",
    "    columns=['text']).to_csv(os.environ['PANDAS_EXPORT_FOLDER'] + 'req7.csv')"
   ]
  }
 ],
 "metadata": {
  "kernelspec": {
   "display_name": "Python 3",
   "language": "python",
   "name": "python3"
  },
  "language_info": {
   "codemirror_mode": {
    "name": "ipython",
    "version": 3
   },
   "file_extension": ".py",
   "mimetype": "text/x-python",
   "name": "python",
   "nbconvert_exporter": "python",
   "pygments_lexer": "ipython3",
   "version": "3.6.6"
  }
 },
 "nbformat": 4,
 "nbformat_minor": 2
}
