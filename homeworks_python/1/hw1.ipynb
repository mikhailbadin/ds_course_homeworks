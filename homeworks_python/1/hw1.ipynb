{
 "cells": [
  {
   "cell_type": "markdown",
   "metadata": {},
   "source": [
    "# Задание к занятию «Python, git»"
   ]
  },
  {
   "cell_type": "markdown",
   "metadata": {},
   "source": [
    "## Задание 1\n",
    "\n",
    "Даны 2 строки long_phrase и short_phrase. Напишите код, который проверяет действительно ли длинная фраза long_phrase длиннее короткой short_phrase. И выводит True или False в зависимости от результата сравнения\n",
    "<pre>\n",
    "long_phrase = 'Насколько проще было бы писать программы, если бы не заказчики'\n",
    "short_phrase = '640Кб должно хватить для любых задач. Билл Гейтс (по легенде)'\n",
    "</pre>"
   ]
  },
  {
   "cell_type": "code",
   "execution_count": 1,
   "metadata": {},
   "outputs": [],
   "source": [
    "def compare_string_length(str1, str2):\n",
    "    '''Сравнивает длину двух строк.\n",
    "    Если строка str1 больше str2 то возвращает True, иначе False\n",
    "    '''\n",
    "    if len(str1) > len(str2):\n",
    "        return True\n",
    "    else:\n",
    "        return False"
   ]
  },
  {
   "cell_type": "code",
   "execution_count": 2,
   "metadata": {},
   "outputs": [],
   "source": [
    "# Исходные данные\n",
    "long_phrase = 'Насколько проще было бы писать программы, если бы не заказчики'\n",
    "short_phrase = '640Кб должно хватить для любых задач. Билл Гейтс (по легенде)'"
   ]
  },
  {
   "cell_type": "code",
   "execution_count": 3,
   "metadata": {},
   "outputs": [],
   "source": [
    "# Проверка работы функции\n",
    "print(compare_string_length(long_phrase, short_phrase)) # True\n",
    "print(compare_string_length(short_phrase, long_phrase)) # False"
   ]
  },
  {
   "cell_type": "markdown",
   "metadata": {},
   "source": [
    "## Задание 2\n",
    "Дана строка text. Определите какая из двух букв встречается в нем чаще - 'а' или 'и'.\n",
    "<pre>\n",
    "text = 'Если программист в 9-00 утра на работе, значит, он там и ночевал'\n",
    "</pre>\n",
    "P.S. Вам может помочь метод replace."
   ]
  },
  {
   "cell_type": "code",
   "execution_count": 4,
   "metadata": {},
   "outputs": [],
   "source": [
    "def check_symbol_freq(str, symb1, symb2):\n",
    "    '''Проверяет какая из букв symb1 или symb2 встречается чаще в строке str\n",
    "    Возвращает символ с наибольшим чиллом вхождением \n",
    "    '''\n",
    "    symb1_str_len = len(str.replace(symb1, ''))\n",
    "    symb2_str_len = len(str.replace(symb2, ''))\n",
    "    return symb1 if symb2_str_len > symb1_str_len else symb2\n"
   ]
  },
  {
   "cell_type": "code",
   "execution_count": 5,
   "metadata": {},
   "outputs": [],
   "source": [
    "# Исходные данные\n",
    "text = 'Если программист в 9-00 утра на работе, значит, он там и ночевал'"
   ]
  },
  {
   "cell_type": "code",
   "execution_count": 6,
   "metadata": {},
   "outputs": [
    {
     "name": "stdout",
     "output_type": "stream",
     "text": [
      "Чаще встречается: а\n"
     ]
    }
   ],
   "source": [
    "# Проверка работ функции\n",
    "print(\"Чаще встречается: \" + check_symbol_freq(text, 'а','е')) # 'а'"
   ]
  },
  {
   "cell_type": "markdown",
   "metadata": {},
   "source": [
    "## Задание 3\n",
    "Дано значение объема файла в байтах. Напишите перевод этого значения в мегабайты в формате: 'Объем файла равен 213.68Mb'\n"
   ]
  },
  {
   "cell_type": "code",
   "execution_count": 7,
   "metadata": {},
   "outputs": [
    {
     "name": "stdout",
     "output_type": "stream",
     "text": [
      "Объем файла равен 213.68Mb\n"
     ]
    }
   ],
   "source": [
    "file_sizeof_mb = 213.68\n",
    "print(\"Объем файла равен %.2fMb\" % (file_sizeof_mb))"
   ]
  },
  {
   "cell_type": "markdown",
   "metadata": {},
   "source": [
    "## Задание 4\n",
    "Выведите на экран значение синуса 30 градусов с помощью метода math.sin."
   ]
  },
  {
   "cell_type": "code",
   "execution_count": 8,
   "metadata": {},
   "outputs": [],
   "source": [
    "# Импортируем модуль math\n",
    "import math"
   ]
  },
  {
   "cell_type": "code",
   "execution_count": 9,
   "metadata": {},
   "outputs": [
    {
     "name": "stdout",
     "output_type": "stream",
     "text": [
      "Синус 30 градусов:  0.49999999999999994\n"
     ]
    }
   ],
   "source": [
    "# Выводим синус 30 градусов\n",
    "print('Синус 30 градусов: ', math.sin(math.radians(30)))"
   ]
  },
  {
   "cell_type": "markdown",
   "metadata": {},
   "source": [
    "## Задание 5\n",
    "В прошлом задании у вас скорее всего не получилось точного значения 0.5 из-за конечной точности вычисления синуса. Но почему некоторые простые операции также могут давать неточный результат? Попробуйте вывести на экран результат операции 0.1 + 0.2"
   ]
  },
  {
   "cell_type": "code",
   "execution_count": 10,
   "metadata": {},
   "outputs": [
    {
     "name": "stdout",
     "output_type": "stream",
     "text": [
      "0.30000000000000004\n"
     ]
    }
   ],
   "source": [
    "# Неточности связаны с особенностью работы процессора и представлением данных (в двоичном формате)\n",
    "print(0.1 + 0.2)"
   ]
  },
  {
   "cell_type": "markdown",
   "metadata": {},
   "source": [
    "## Задание 6 (посложнее)\n",
    "В переменных a и b записаны 2 различных числа. Вам необходимо написать код, который меняет значения a и b местами без использования третьей переменной.\n",
    "Дано число в двоичной системе счисления: num=10011. Напишите алгоритм перевода этого числа в привычную нам десятичную систему счисления.\n",
    "Возможно, вам понадобится цикл прохождения всех целых чисел от 0 до m:\n",
    "<pre>\n",
    "for n in range(m)\n",
    "</pre>"
   ]
  },
  {
   "cell_type": "code",
   "execution_count": 11,
   "metadata": {},
   "outputs": [
    {
     "name": "stdout",
     "output_type": "stream",
     "text": [
      "4 3\n"
     ]
    }
   ],
   "source": [
    "# Меняем значение 2х переменной, без использования 3й\n",
    "x, y = 3,4\n",
    "x += y\n",
    "y = x - y\n",
    "x -= y\n",
    "\n",
    "print(x,y)"
   ]
  },
  {
   "cell_type": "code",
   "execution_count": 12,
   "metadata": {},
   "outputs": [],
   "source": [
    "def bool_to_dec(numb_bool):\n",
    "    '''Функция, которое превращает число, записанное в двоичном формате\n",
    "    в десятичное\n",
    "    '''\n",
    "    numb_bool_str = str(numb_bool)\n",
    "    numb_bool_len = len(numb_bool_str)\n",
    "    numb_dec = 0\n",
    "    for i in range(numb_bool_len):\n",
    "        numb_dec += (2 ** (numb_bool_len - 1 - i)) * int(numb_bool_str[i])\n",
    "    return numb_dec"
   ]
  },
  {
   "cell_type": "code",
   "execution_count": 13,
   "metadata": {},
   "outputs": [
    {
     "name": "stdout",
     "output_type": "stream",
     "text": [
      "0\n",
      "1\n",
      "3\n",
      "19\n"
     ]
    }
   ],
   "source": [
    "# Проверка работы функции\n",
    "num = 10011\n",
    "\n",
    "# Тест работы функции\n",
    "print(bool_to_dec(0)) # 0\n",
    "print(bool_to_dec(1)) # 1\n",
    "print(bool_to_dec(11)) # 3\n",
    "\n",
    "# Выполняем преобразование числа из задания\n",
    "print(bool_to_dec(num)) # 19"
   ]
  },
  {
   "cell_type": "code",
   "execution_count": null,
   "metadata": {},
   "outputs": [],
   "source": []
  }
 ],
 "metadata": {
  "kernelspec": {
   "display_name": "Python 3",
   "language": "python",
   "name": "python3"
  },
  "language_info": {
   "codemirror_mode": {
    "name": "ipython",
    "version": 3
   },
   "file_extension": ".py",
   "mimetype": "text/x-python",
   "name": "python",
   "nbconvert_exporter": "python",
   "pygments_lexer": "ipython3",
   "version": "3.6.6"
  }
 },
 "nbformat": 4,
 "nbformat_minor": 2
}
