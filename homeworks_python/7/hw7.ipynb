{
 "cells": [
  {
   "cell_type": "markdown",
   "metadata": {},
   "source": [
    "# Задание к занятию «Методы математической оптимизации»"
   ]
  },
  {
   "cell_type": "code",
   "execution_count": 1,
   "metadata": {},
   "outputs": [],
   "source": [
    "import numpy as np\n",
    "from scipy import optimize"
   ]
  },
  {
   "cell_type": "markdown",
   "metadata": {},
   "source": [
    "## 1. Массивы\n",
    "\n",
    "Существует массив `Z = [1,2,3,4,5,6,7,8,9,10,11,12,13,14]`,\n",
    "как из него создать массив `R = [[1,2,3,4], [2,3,4,5], [3,4,5,6], ...,[11,12,13,14]]`?"
   ]
  },
  {
   "cell_type": "code",
   "execution_count": 2,
   "metadata": {},
   "outputs": [
    {
     "data": {
      "text/plain": [
       "array([[ 1,  2,  3,  4],\n",
       "       [ 2,  3,  4,  5],\n",
       "       [ 3,  4,  5,  6],\n",
       "       [ 4,  5,  6,  7],\n",
       "       [ 5,  6,  7,  8],\n",
       "       [ 6,  7,  8,  9],\n",
       "       [ 7,  8,  9, 10],\n",
       "       [ 8,  9, 10, 11],\n",
       "       [ 9, 10, 11, 12],\n",
       "       [10, 11, 12, 13],\n",
       "       [11, 12, 13, 14]])"
      ]
     },
     "execution_count": 2,
     "metadata": {},
     "output_type": "execute_result"
    }
   ],
   "source": [
    "# Создаем исходный массив\n",
    "Z = np.arange(1, 15)\n",
    "\n",
    "# Создаем массив R\n",
    "R = np.array([Z[z:z+4] for z in range(len(Z)-3)])\n",
    "R"
   ]
  },
  {
   "cell_type": "markdown",
   "metadata": {},
   "source": [
    "## 2. Матрица\n",
    "\n",
    "Дана произвольная матрица `A`. Рассчитать ранг матрицы `A`."
   ]
  },
  {
   "cell_type": "code",
   "execution_count": 3,
   "metadata": {},
   "outputs": [
    {
     "data": {
      "text/plain": [
       "2"
      ]
     },
     "execution_count": 3,
     "metadata": {},
     "output_type": "execute_result"
    }
   ],
   "source": [
    "# Задаем произвольную матрицу\n",
    "A = np.matrix( ((2,3), (3, 5)) )\n",
    "\n",
    "# Расчитываем ранг матрицы\n",
    "mrtx_rank = np.linalg.matrix_rank(A)\n",
    "mrtx_rank"
   ]
  },
  {
   "cell_type": "markdown",
   "metadata": {},
   "source": [
    "## 3. Опимизация\n",
    "\n",
    "Найти лучший алгоритм для решения следующей задачи:\n",
    "\n",
    "```\n",
    "min(x1x4(x1+x2+x3)+x3)\n",
    "```\n",
    "\n",
    "Условия:\n",
    "\n",
    "```\n",
    "x1x2x3x4≥30\n",
    "x1^2+x2^2+x3^2+x4^2=60\n",
    "2≤x1,x2,x3,x4≤6\n",
    "```\n",
    "\n",
    "Начальное приближение:\n",
    "\n",
    "```\n",
    "x=(1,5,5,1)\n",
    "```\n"
   ]
  },
  {
   "cell_type": "code",
   "execution_count": 4,
   "metadata": {},
   "outputs": [],
   "source": [
    "# Описываем функцию, которую будем оптимизировать\n",
    "def func(x):\n",
    "    return x[0]*x[3]*(x[0]+x[1]*x[2])*x[2]\n",
    "\n",
    "# Параметры алгоритма\n",
    "param = {\n",
    "    'method': 'SLSQP',\n",
    "    # Описываем ограничения\n",
    "    'bounds': optimize.Bounds([2,2,2,2], [6,6,6,6]),\n",
    "    'constraints': [\n",
    "        {'type': 'ineq', 'fun': lambda x: x[0]*x[1]*x[2]*x[3] - 30},\n",
    "        {'type': 'eq', 'fun': lambda x: x[0]**2+x[1]**2+x[2]**2+x[3]**2 - 60},\n",
    "    ]\n",
    "}\n",
    "\n",
    "# Начальное приближение\n",
    "x0 = [1, 5, 5, 1]"
   ]
  },
  {
   "cell_type": "code",
   "execution_count": 5,
   "metadata": {},
   "outputs": [
    {
     "name": "stdout",
     "output_type": "stream",
     "text": [
      "result: [2. 6. 4. 2.] number of iter: 6\n"
     ]
    }
   ],
   "source": [
    "\n",
    "\n",
    "res = optimize.minimize(func, x0, **param)\n",
    "if res.success == True:\n",
    "    print('result: {} number of iter: {}'.format(res.x, res.nit))\n",
    "else:\n",
    "    print('cannot optimize')"
   ]
  },
  {
   "cell_type": "code",
   "execution_count": null,
   "metadata": {},
   "outputs": [],
   "source": []
  }
 ],
 "metadata": {
  "kernelspec": {
   "display_name": "Python 3",
   "language": "python",
   "name": "python3"
  },
  "language_info": {
   "codemirror_mode": {
    "name": "ipython",
    "version": 3
   },
   "file_extension": ".py",
   "mimetype": "text/x-python",
   "name": "python",
   "nbconvert_exporter": "python",
   "pygments_lexer": "ipython3",
   "version": "3.6.6"
  }
 },
 "nbformat": 4,
 "nbformat_minor": 2
}
