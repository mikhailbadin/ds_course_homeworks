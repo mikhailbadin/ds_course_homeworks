{
 "cells": [
  {
   "cell_type": "markdown",
   "metadata": {},
   "source": [
    "# Задание к занятию «Продвинутые типы данныx»"
   ]
  },
  {
   "cell_type": "code",
   "execution_count": 1,
   "metadata": {},
   "outputs": [],
   "source": [
    "# Подключаем необходимые модули\n",
    "from datetime import datetime\n",
    "from datetime import timedelta"
   ]
  },
  {
   "cell_type": "markdown",
   "metadata": {},
   "source": [
    "## Задание 1\n",
    "\n",
    "Напишите функцию date_range, которая возвращает список дней между датами `start_date` и `end_date`. Даты должны вводиться в формате `YYYY-MM-DD`."
   ]
  },
  {
   "cell_type": "code",
   "execution_count": 2,
   "metadata": {},
   "outputs": [],
   "source": [
    "def date_range(start_date_str, end_date_str):\n",
    "    '''Возвращает список дней между датами start_date и end_date.\n",
    "    Даты должны вводиться в формате YYYY-MM-DD\n",
    "    '''\n",
    "    date_format = '%Y-%m-%d'\n",
    "    start_date = datetime.strptime(start_date_str, date_format)\n",
    "    end_date = datetime.strptime(end_date_str, date_format)\n",
    "    \n",
    "    day_list = []\n",
    "    date = start_date\n",
    "    while date <= end_date:\n",
    "        day_list.append(date.strftime(date_format))\n",
    "        date += timedelta(days=1)\n",
    "    return day_list\n",
    "    "
   ]
  },
  {
   "cell_type": "code",
   "execution_count": 3,
   "metadata": {},
   "outputs": [
    {
     "data": {
      "text/plain": [
       "['2017-01-25',\n",
       " '2017-01-26',\n",
       " '2017-01-27',\n",
       " '2017-01-28',\n",
       " '2017-01-29',\n",
       " '2017-01-30',\n",
       " '2017-01-31']"
      ]
     },
     "execution_count": 3,
     "metadata": {},
     "output_type": "execute_result"
    }
   ],
   "source": [
    "date_range('2017-01-25', '2017-01-31') # Проверка работы "
   ]
  },
  {
   "cell_type": "markdown",
   "metadata": {},
   "source": [
    "## Задание 2\n",
    "\n",
    "Дополните функцию из первого задания проверкой на корректность дат. В случае неверного формата или если `start_date > end_date` должен возвращаться пустой список.\n"
   ]
  },
  {
   "cell_type": "code",
   "execution_count": 4,
   "metadata": {},
   "outputs": [],
   "source": [
    "def date_range_v2(start_date_str, end_date_str):\n",
    "    '''Возвращает список дней между датами start_date и end_date.\n",
    "    Даты должны вводиться в формате YYYY-MM-DD. В случае неверного формата\n",
    "    или если start_date > end_date должен возвращаться пустой список.\n",
    "    '''\n",
    "    date_format = '%Y-%m-%d'\n",
    "    day_list = []\n",
    "    \n",
    "    try:\n",
    "        start_date = datetime.strptime(start_date_str, date_format)\n",
    "        end_date = datetime.strptime(end_date_str, date_format)\n",
    "    except:\n",
    "        return day_list\n",
    "    date = start_date\n",
    "    while date <= end_date:\n",
    "        day_list.append(date.strftime(date_format))\n",
    "        date += timedelta(days=1)\n",
    "    return day_list"
   ]
  },
  {
   "cell_type": "code",
   "execution_count": 5,
   "metadata": {},
   "outputs": [
    {
     "data": {
      "text/plain": [
       "['2017-01-25',\n",
       " '2017-01-26',\n",
       " '2017-01-27',\n",
       " '2017-01-28',\n",
       " '2017-01-29',\n",
       " '2017-01-30',\n",
       " '2017-01-31']"
      ]
     },
     "execution_count": 5,
     "metadata": {},
     "output_type": "execute_result"
    }
   ],
   "source": [
    "date_range_v2('2017-01-25', '2017-01-31') # Нормальный случай"
   ]
  },
  {
   "cell_type": "code",
   "execution_count": 6,
   "metadata": {},
   "outputs": [
    {
     "data": {
      "text/plain": [
       "[]"
      ]
     },
     "execution_count": 6,
     "metadata": {},
     "output_type": "execute_result"
    }
   ],
   "source": [
    "date_range_v2('2017-01-25', '2017-01:31') # Неверный формат"
   ]
  },
  {
   "cell_type": "code",
   "execution_count": 7,
   "metadata": {},
   "outputs": [
    {
     "data": {
      "text/plain": [
       "[]"
      ]
     },
     "execution_count": 7,
     "metadata": {},
     "output_type": "execute_result"
    }
   ],
   "source": [
    "date_range_v2('2018-01-25', '2017-01-31') # Случай, когда start_date > end_date "
   ]
  },
  {
   "cell_type": "markdown",
   "metadata": {},
   "source": [
    "## Задание 3\n",
    "\n",
    "Дан поток дат в формате YYYY-MM-DD, в которых встречаются некорректные значения:\n",
    "`stream = ['2018-04-02', '2018-02-29', '2018-19-02']`\n",
    "Напишите функцию, которая проверяет эти даты на корректность. Т. е. для каждой даты возвращает `True` (дата корректна) или `False` (некорректная дата)."
   ]
  },
  {
   "cell_type": "code",
   "execution_count": 8,
   "metadata": {},
   "outputs": [],
   "source": [
    "def date_check(date_str_list):\n",
    "    '''Проверяет даты на корректность формату '%Y-%m-%d'.\n",
    "    Т. е. для каждой даты возвращает True (дата корректна) или False (некорректная дата)\n",
    "    Возвращает список результатов проверки корректности дат\n",
    "    '''\n",
    "    date_format = '%Y-%m-%d'\n",
    "    correct_check_list = []\n",
    "    for elem in date_str_list:\n",
    "        check = True\n",
    "        try: datetime.strptime(elem, date_format)\n",
    "        except: check = False\n",
    "        correct_check_list.append(check)\n",
    "    return correct_check_list"
   ]
  },
  {
   "cell_type": "code",
   "execution_count": 9,
   "metadata": {},
   "outputs": [
    {
     "data": {
      "text/plain": [
       "[True, False, False]"
      ]
     },
     "execution_count": 9,
     "metadata": {},
     "output_type": "execute_result"
    }
   ],
   "source": [
    "# Входные данные\n",
    "stream = ['2018-04-02', '2018-02-29', '2018-19-02']\n",
    "\n",
    "# Проверка работы\n",
    "date_check(stream) # [True, False, False]"
   ]
  },
  {
   "cell_type": "markdown",
   "metadata": {},
   "source": [
    "## Задание 4\n",
    "\n",
    "Напишите функцию, которая возвращает список дат с 1 по вчерашний день текущего месяца. Если дан 1 день месяца, то возвращается список дней прошлого месяца."
   ]
  },
  {
   "cell_type": "code",
   "execution_count": 10,
   "metadata": {},
   "outputs": [],
   "source": [
    "def list_of_days(end_date_str):\n",
    "    '''Возвращает список дат с 1 по вчерашний день текущего месяца.\n",
    "    Если дан 1 день месяца, то возвращается список дней прошлого месяца\n",
    "    '''\n",
    "    date_format = '%Y-%m-%d'\n",
    "    end_date = datetime.strptime(end_date_str, date_format)\n",
    "    finish_date = end_date - timedelta(days = 1) # Ищем по эту дату\n",
    "    days_list = []\n",
    "    date = finish_date - timedelta(days = finish_date.day -1) # Ищем с этой даты\n",
    "    while date <= finish_date:\n",
    "        days_list.append(date.strftime(date_format))\n",
    "        date += timedelta(days = 1)\n",
    "    return days_list"
   ]
  },
  {
   "cell_type": "code",
   "execution_count": 11,
   "metadata": {},
   "outputs": [
    {
     "data": {
      "text/plain": [
       "['2018-01-01', '2018-01-02', '2018-01-03']"
      ]
     },
     "execution_count": 11,
     "metadata": {},
     "output_type": "execute_result"
    }
   ],
   "source": [
    "list_of_days('2018-01-04') # Обычный случай"
   ]
  },
  {
   "cell_type": "code",
   "execution_count": 12,
   "metadata": {},
   "outputs": [
    {
     "data": {
      "text/plain": [
       "['2018-01-01',\n",
       " '2018-01-02',\n",
       " '2018-01-03',\n",
       " '2018-01-04',\n",
       " '2018-01-05',\n",
       " '2018-01-06',\n",
       " '2018-01-07',\n",
       " '2018-01-08',\n",
       " '2018-01-09',\n",
       " '2018-01-10',\n",
       " '2018-01-11',\n",
       " '2018-01-12',\n",
       " '2018-01-13',\n",
       " '2018-01-14',\n",
       " '2018-01-15',\n",
       " '2018-01-16',\n",
       " '2018-01-17',\n",
       " '2018-01-18',\n",
       " '2018-01-19',\n",
       " '2018-01-20',\n",
       " '2018-01-21',\n",
       " '2018-01-22',\n",
       " '2018-01-23',\n",
       " '2018-01-24',\n",
       " '2018-01-25',\n",
       " '2018-01-26',\n",
       " '2018-01-27',\n",
       " '2018-01-28',\n",
       " '2018-01-29',\n",
       " '2018-01-30',\n",
       " '2018-01-31']"
      ]
     },
     "execution_count": 12,
     "metadata": {},
     "output_type": "execute_result"
    }
   ],
   "source": [
    "list_of_days('2018-02-01') # Случай когда день == 1 и нужно получить список за прошлый месяц"
   ]
  },
  {
   "cell_type": "code",
   "execution_count": 13,
   "metadata": {},
   "outputs": [
    {
     "data": {
      "text/plain": [
       "['2017-12-01',\n",
       " '2017-12-02',\n",
       " '2017-12-03',\n",
       " '2017-12-04',\n",
       " '2017-12-05',\n",
       " '2017-12-06',\n",
       " '2017-12-07',\n",
       " '2017-12-08',\n",
       " '2017-12-09',\n",
       " '2017-12-10',\n",
       " '2017-12-11',\n",
       " '2017-12-12',\n",
       " '2017-12-13',\n",
       " '2017-12-14',\n",
       " '2017-12-15',\n",
       " '2017-12-16',\n",
       " '2017-12-17',\n",
       " '2017-12-18',\n",
       " '2017-12-19',\n",
       " '2017-12-20',\n",
       " '2017-12-21',\n",
       " '2017-12-22',\n",
       " '2017-12-23',\n",
       " '2017-12-24',\n",
       " '2017-12-25',\n",
       " '2017-12-26',\n",
       " '2017-12-27',\n",
       " '2017-12-28',\n",
       " '2017-12-29',\n",
       " '2017-12-30',\n",
       " '2017-12-31']"
      ]
     },
     "execution_count": 13,
     "metadata": {},
     "output_type": "execute_result"
    }
   ],
   "source": [
    "list_of_days('2018-01-01')  # Случай когда день == 1 но нужно получить список в прошлом году"
   ]
  },
  {
   "cell_type": "markdown",
   "metadata": {},
   "source": [
    "## Задание 5\n",
    "\n",
    "Напишите функцию, которая возвращает точную дату в формате `YYYY-MM-DD` по фразе:\n",
    "\n",
    "1. `'today'` - сегодняшнюю дату\n",
    "2. `'last monday'` - прошлый понедельник\n",
    "3. `'last day'` - Последний день текущего месяца"
   ]
  },
  {
   "cell_type": "code",
   "execution_count": 14,
   "metadata": {},
   "outputs": [],
   "source": [
    "def return_date_by_phrase(phrase):\n",
    "    ''' возвращает точную дату в формате YYYY-MM-DD по фразе:\n",
    "    'today' - сегодняшнюю дату\n",
    "    'last monday' - прошлый понедельник\n",
    "    'last day' - Последний день текущего месяца\n",
    "    '''\n",
    "    date_format = '%Y-%m-%d'\n",
    "    date = datetime.now()\n",
    "    if phrase == 'today':\n",
    "        date_str = date.strftime(date_format)\n",
    "    elif phrase == 'last monday':\n",
    "        date = date - timedelta(weeks = 1, days = date.weekday())\n",
    "        date_str = date.strftime(date_format)\n",
    "    elif phrase == 'last day':\n",
    "        date = datetime(year = date.year, month = date.month + 1, day = 1)\n",
    "        date -= timedelta(days = 1)\n",
    "        date_str = date.strftime(date_format)\n",
    "    return date_str;"
   ]
  },
  {
   "cell_type": "code",
   "execution_count": 15,
   "metadata": {},
   "outputs": [
    {
     "data": {
      "text/plain": [
       "'2018-09-09'"
      ]
     },
     "execution_count": 15,
     "metadata": {},
     "output_type": "execute_result"
    }
   ],
   "source": [
    "return_date_by_phrase('today')"
   ]
  },
  {
   "cell_type": "code",
   "execution_count": 16,
   "metadata": {},
   "outputs": [
    {
     "data": {
      "text/plain": [
       "'2018-08-27'"
      ]
     },
     "execution_count": 16,
     "metadata": {},
     "output_type": "execute_result"
    }
   ],
   "source": [
    "return_date_by_phrase('last monday')"
   ]
  },
  {
   "cell_type": "code",
   "execution_count": 17,
   "metadata": {},
   "outputs": [
    {
     "data": {
      "text/plain": [
       "'2018-09-30'"
      ]
     },
     "execution_count": 17,
     "metadata": {},
     "output_type": "execute_result"
    }
   ],
   "source": [
    "return_date_by_phrase('last day')"
   ]
  },
  {
   "cell_type": "markdown",
   "metadata": {},
   "source": [
    "## Задание 6\n",
    "\n",
    "Напишите функцию, которая разбивает на недели с понедельника по воскресенье интервал дат между `start_date` и `end_date`. Считайте, что входные данные всегда корректны. В ответ должны входить только полные недели."
   ]
  },
  {
   "cell_type": "code",
   "execution_count": 18,
   "metadata": {},
   "outputs": [],
   "source": [
    "def dates_to_weeks(start_date_str, end_date_str):\n",
    "    '''Разбивает на недели с понедельника по воскресенье интервал\n",
    "    дат между start_date и end_date\n",
    "    '''\n",
    "    date_format = '%Y-%m-%d'\n",
    "    start_date_ = datetime.strptime(start_date_str, date_format)\n",
    "    end_date_ = datetime.strptime(end_date_str, date_format)\n",
    "    if start_date_.weekday() == 0:\n",
    "        start_date = start_date_\n",
    "    else:\n",
    "        start_date = start_date_ + timedelta(weeks = 1) - timedelta(start_date_.weekday())\n",
    "    if end_date_.weekday() == 6:\n",
    "        end_date = end_date_\n",
    "    else:\n",
    "        end_date = end_date_ - timedelta(end_date_.weekday() + 1)\n",
    "    date = start_date\n",
    "    date_list = []\n",
    "    while date < end_date:\n",
    "        date_str = '{} - {}'.format(date.strftime(date_format), (date  + timedelta(6)).strftime(date_format))\n",
    "        date_list.append(date_str)\n",
    "        date += timedelta(weeks = 1)\n",
    "    return date_list\n",
    "        "
   ]
  },
  {
   "cell_type": "code",
   "execution_count": 19,
   "metadata": {},
   "outputs": [
    {
     "data": {
      "text/plain": [
       "['2018-09-03 - 2018-09-09',\n",
       " '2018-09-10 - 2018-09-16',\n",
       " '2018-09-17 - 2018-09-23']"
      ]
     },
     "execution_count": 19,
     "metadata": {},
     "output_type": "execute_result"
    }
   ],
   "source": [
    "dates_to_weeks('2018-09-02', '2018-09-23')"
   ]
  }
 ],
 "metadata": {
  "kernelspec": {
   "display_name": "Python 3",
   "language": "python",
   "name": "python3"
  },
  "language_info": {
   "codemirror_mode": {
    "name": "ipython",
    "version": 3
   },
   "file_extension": ".py",
   "mimetype": "text/x-python",
   "name": "python",
   "nbconvert_exporter": "python",
   "pygments_lexer": "ipython3",
   "version": "3.6.6"
  }
 },
 "nbformat": 4,
 "nbformat_minor": 2
}
