{
 "cells": [
  {
   "cell_type": "markdown",
   "metadata": {},
   "source": [
    "# Задание к занятию «Функции и классы»"
   ]
  },
  {
   "cell_type": "markdown",
   "metadata": {},
   "source": [
    "## Задание 1\n",
    "\n",
    "Дан список вида:\n",
    "\n",
    "```python\n",
    "data = [\n",
    "[13, 25, 23, 34],\n",
    "[45, 32, 44, 47],\n",
    "[12, 33, 23, 95],\n",
    "[13, 53, 34, 35],\n",
    "]\n",
    "```\n",
    "\n",
    "Напишите функцию, которая возвращает сумму элементов на диагонали. Т. е. 13+32+23+35."
   ]
  },
  {
   "cell_type": "code",
   "execution_count": 1,
   "metadata": {},
   "outputs": [],
   "source": [
    "def diagonal_sum(list_matrix):\n",
    "    ''' Возвращает сумму элементов по диагонали. list_matrix - список из списков,\n",
    "    одинаковой длинны.\n",
    "    '''\n",
    "    sum = 0;\n",
    "    column_len = len(list_matrix)\n",
    "    for i in range(column_len):\n",
    "        row = list_matrix[i]\n",
    "        if column_len != len(row):\n",
    "            return -1\n",
    "        sum += row[i]\n",
    "    return sum"
   ]
  },
  {
   "cell_type": "code",
   "execution_count": 2,
   "metadata": {},
   "outputs": [
    {
     "data": {
      "text/plain": [
       "103"
      ]
     },
     "execution_count": 2,
     "metadata": {},
     "output_type": "execute_result"
    }
   ],
   "source": [
    "# Входные данные\n",
    "data = [\n",
    "[13, 25, 23, 34],\n",
    "[45, 32, 44, 47],\n",
    "[12, 33, 23, 95],\n",
    "[13, 53, 34, 35],\n",
    "]\n",
    "\n",
    "# Проверка работы\n",
    "diagonal_sum(data) # 103"
   ]
  },
  {
   "cell_type": "markdown",
   "metadata": {},
   "source": [
    "## Задание 2\n",
    "\n",
    "Дан список чисел, часть из которых имеют строковый тип или содержат буквы. Напишите функцию, которая возвращает сумму квадратов элементов, которые могут быть числами.\n",
    "\n",
    "```python\n",
    "data = [1, '5', 'abc', 20, '2']\n",
    "```"
   ]
  },
  {
   "cell_type": "code",
   "execution_count": 3,
   "metadata": {},
   "outputs": [],
   "source": [
    "def list_sum_and_sqrt(data):\n",
    "    '''Возвращает сумму квадратов элементов, которые могут быть числами\n",
    "    '''\n",
    "    filter_func = lambda x: int(x)**2 if type(x) == int or str.isnumeric(x) else 0\n",
    "    return sum(map(filter_func, data))"
   ]
  },
  {
   "cell_type": "code",
   "execution_count": 4,
   "metadata": {},
   "outputs": [
    {
     "data": {
      "text/plain": [
       "430"
      ]
     },
     "execution_count": 4,
     "metadata": {},
     "output_type": "execute_result"
    }
   ],
   "source": [
    "# Входные данные\n",
    "data = [1, '5', 'abc', 20, '2']\n",
    "\n",
    "list_sum_and_sqrt(data) # 430"
   ]
  },
  {
   "cell_type": "markdown",
   "metadata": {},
   "source": [
    "## Задание 3\n",
    "\n",
    "Напишите функцию, которая возвращает название валюты (поле 'Name') с максимальным значением курса с помощью сервиса https://www.cbr-xml-daily.ru/daily_json.js"
   ]
  },
  {
   "cell_type": "code",
   "execution_count": 5,
   "metadata": {},
   "outputs": [],
   "source": [
    "import requests\n",
    "def max_rate():\n",
    "    '''Возвращает название валюты (поле 'Name') с максимальным значением курса\n",
    "    с помощью сервиса https://www.cbr-xml-daily.ru/daily_json.js\n",
    "    '''\n",
    "    r = requests.get('https://www.cbr-xml-daily.ru/daily_json.js').json()['Valute']\n",
    "    data = {val['Name']: val['Value'] for _, val in r.items()}\n",
    "    return max(data, key=(lambda x: data[x]))\n",
    "    \n",
    "    "
   ]
  },
  {
   "cell_type": "code",
   "execution_count": 6,
   "metadata": {},
   "outputs": [
    {
     "data": {
      "text/plain": [
       "'Киргизских сомов'"
      ]
     },
     "execution_count": 6,
     "metadata": {},
     "output_type": "execute_result"
    }
   ],
   "source": [
    "# Проверка работы функции\n",
    "max_rate()"
   ]
  },
  {
   "cell_type": "markdown",
   "metadata": {},
   "source": [
    "## Задание 4\n",
    "\n",
    "Последнее упражнение с занятия\n",
    "\n",
    "1. Добавьте в класс еще один формат, который возвращает название валюты (например, 'Евро').\n",
    "\n",
    "2. Добавьте в класс параметр diff (со значениями True или False), который в случае значения True в методах eur и usd будет возвращать не курс валюты, а изменение по сравнению в прошлым значением."
   ]
  },
  {
   "cell_type": "code",
   "execution_count": 7,
   "metadata": {},
   "outputs": [],
   "source": [
    "import requests"
   ]
  },
  {
   "cell_type": "code",
   "execution_count": 8,
   "metadata": {},
   "outputs": [],
   "source": [
    "class Rate:\n",
    "    def __init__(self, format='value', diff = False):\n",
    "        self.format = format\n",
    "        self.diff = diff\n",
    "    \n",
    "    def exchange_rates(self):\n",
    "        \"\"\"\n",
    "        Возвращает ответ сервиса с информацией о валютах в виде:\n",
    "        \n",
    "        {\n",
    "            'AMD': {\n",
    "                'CharCode': 'AMD',\n",
    "                'ID': 'R01060',\n",
    "                'Name': 'Армянских драмов',\n",
    "                'Nominal': 100,\n",
    "                'NumCode': '051',\n",
    "                'Previous': 14.103,\n",
    "                'Value': 14.0879\n",
    "                },\n",
    "            ...\n",
    "        }\n",
    "        \"\"\"\n",
    "        r = requests.get('https://www.cbr-xml-daily.ru/daily_json.js')\n",
    "        return r.json()['Valute']\n",
    "    \n",
    "    def make_format(self, currency, check_diff = False):\n",
    "        \"\"\"\n",
    "        Возвращает информацию о валюте currency в двух вариантах:\n",
    "        - полная информация о валюте при self.format = 'full':\n",
    "        Rate('full').make_format('EUR')\n",
    "        {\n",
    "            'CharCode': 'EUR',\n",
    "            'ID': 'R01239',\n",
    "            'Name': 'Евро',\n",
    "            'Nominal': 1,\n",
    "            'NumCode': '978',\n",
    "            'Previous': 79.6765,\n",
    "            'Value': 79.4966\n",
    "        }\n",
    "        \n",
    "        Rate('value').make_format('EUR')\n",
    "        79.4966\n",
    "        \"\"\"\n",
    "        response = self.exchange_rates()\n",
    "        \n",
    "        if check_diff:\n",
    "            val = response[currency]['Value']\n",
    "            prev = response[currency]['Previous']\n",
    "            return val - prev\n",
    "        \n",
    "        if currency in response:\n",
    "            if self.format == 'full':\n",
    "                return response[currency]\n",
    "            \n",
    "            if self.format == 'value':\n",
    "                return response[currency]['Value']\n",
    "            \n",
    "            # 1. Добавьте в класс еще один формат, который возвращает название валюты (например, 'Евро').\n",
    "            if self.format == 'name':\n",
    "                return response[currency]['Name']\n",
    "        \n",
    "        return 'Error'\n",
    "    \n",
    "    def eur(self):\n",
    "        \"\"\"Возвращает курс евро на сегодня в формате self.format\"\"\"\n",
    "        return self.make_format('EUR', self.diff)\n",
    "    \n",
    "    def usd(self):\n",
    "        \"\"\"Возвращает курс доллара на сегодня в формате self.format\"\"\"\n",
    "        return self.make_format('USD', self.diff)"
   ]
  },
  {
   "cell_type": "code",
   "execution_count": 9,
   "metadata": {},
   "outputs": [
    {
     "name": "stdout",
     "output_type": "stream",
     "text": [
      "Доллар США\n",
      "0.7780999999999949\n"
     ]
    }
   ],
   "source": [
    "# Проверка работы\n",
    "print(Rate('name').usd()) # Доллар США\n",
    "print(Rate('full', True).usd()) # 0.7780999999999949"
   ]
  },
  {
   "cell_type": "markdown",
   "metadata": {},
   "source": [
    "## Задание 5\n",
    "\n",
    "Напишите функцию, возвращающую сумму первых n чисел Фибоначчи"
   ]
  },
  {
   "cell_type": "code",
   "execution_count": 10,
   "metadata": {},
   "outputs": [],
   "source": [
    "def fib(n):\n",
    "    '''Возвращает сумму первых n чисел Фибоначчи'''\n",
    "    if n < 2: return n;\n",
    "    else: return fib(n - 1) + fib(n -2)"
   ]
  },
  {
   "cell_type": "code",
   "execution_count": 11,
   "metadata": {},
   "outputs": [
    {
     "name": "stdout",
     "output_type": "stream",
     "text": [
      "0\n",
      "1\n",
      "1\n",
      "2\n",
      "3\n",
      "5\n",
      "55\n"
     ]
    }
   ],
   "source": [
    "# Проверка работы функции\n",
    "print(fib(0)) # 0\n",
    "print(fib(1)) # 1\n",
    "print(fib(2)) # 1\n",
    "print(fib(3)) # 2\n",
    "print(fib(4)) # 3\n",
    "print(fib(5)) # 5\n",
    "print(fib(10)) # 55"
   ]
  },
  {
   "cell_type": "markdown",
   "metadata": {},
   "source": [
    "## Задание 6\n",
    "\n",
    "Напишите функцию, преобразующую произвольный список вида `['2018-01-01', 'yandex', 'cpc', 100]` в словарь `{'2018-01-01': {'yandex': {'cpc': 100}}}`"
   ]
  },
  {
   "cell_type": "code",
   "execution_count": 12,
   "metadata": {},
   "outputs": [],
   "source": [
    "def make_dict(data):\n",
    "    if len(data) == 1:\n",
    "        return data[0]\n",
    "    else:\n",
    "        return {data[0]: make_dict(data[1:])}"
   ]
  },
  {
   "cell_type": "code",
   "execution_count": 13,
   "metadata": {},
   "outputs": [
    {
     "data": {
      "text/plain": [
       "{'2018-01-01': {'yandex': {'cpc': 100}}}"
      ]
     },
     "execution_count": 13,
     "metadata": {},
     "output_type": "execute_result"
    }
   ],
   "source": [
    "# Входные данные\n",
    "data = ['2018-01-01', 'yandex', 'cpc', 100]\n",
    "\n",
    "# Проверка работы\n",
    "make_dict(data) # {'2018-01-01': {'yandex': {'cpc': 100}}}"
   ]
  }
 ],
 "metadata": {
  "kernelspec": {
   "display_name": "Python 3",
   "language": "python",
   "name": "python3"
  },
  "language_info": {
   "codemirror_mode": {
    "name": "ipython",
    "version": 3
   },
   "file_extension": ".py",
   "mimetype": "text/x-python",
   "name": "python",
   "nbconvert_exporter": "python",
   "pygments_lexer": "ipython3",
   "version": "3.6.6"
  }
 },
 "nbformat": 4,
 "nbformat_minor": 2
}
